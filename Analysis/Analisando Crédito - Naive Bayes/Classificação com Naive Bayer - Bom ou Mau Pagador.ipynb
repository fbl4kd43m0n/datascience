{
 "cells": [
  {
   "cell_type": "code",
   "execution_count": 53,
   "metadata": {},
   "outputs": [],
   "source": [
    "import pandas as pd\n",
    "from sklearn.model_selection import train_test_split\n",
    "from sklearn.naive_bayes import GaussianNB\n",
    "from sklearn.preprocessing import LabelEncoder\n",
    "from sklearn.metrics import confusion_matrix, accuracy_score\n",
    "from yellowbrick.classifier import ConfusionMatrix"
   ]
  },
  {
   "cell_type": "code",
   "execution_count": 3,
   "metadata": {},
   "outputs": [],
   "source": [
    "credito = pd.read_csv('Credit.csv')"
   ]
  },
  {
   "cell_type": "code",
   "execution_count": 4,
   "metadata": {},
   "outputs": [
    {
     "data": {
      "text/html": [
       "<div>\n",
       "<style scoped>\n",
       "    .dataframe tbody tr th:only-of-type {\n",
       "        vertical-align: middle;\n",
       "    }\n",
       "\n",
       "    .dataframe tbody tr th {\n",
       "        vertical-align: top;\n",
       "    }\n",
       "\n",
       "    .dataframe thead th {\n",
       "        text-align: right;\n",
       "    }\n",
       "</style>\n",
       "<table border=\"1\" class=\"dataframe\">\n",
       "  <thead>\n",
       "    <tr style=\"text-align: right;\">\n",
       "      <th></th>\n",
       "      <th>checking_status</th>\n",
       "      <th>duration</th>\n",
       "      <th>credit_history</th>\n",
       "      <th>purpose</th>\n",
       "      <th>credit_amount</th>\n",
       "      <th>savings_status</th>\n",
       "      <th>employment</th>\n",
       "      <th>installment_commitment</th>\n",
       "      <th>personal_status</th>\n",
       "      <th>other_parties</th>\n",
       "      <th>...</th>\n",
       "      <th>property_magnitude</th>\n",
       "      <th>age</th>\n",
       "      <th>other_payment_plans</th>\n",
       "      <th>housing</th>\n",
       "      <th>existing_credits</th>\n",
       "      <th>job</th>\n",
       "      <th>num_dependents</th>\n",
       "      <th>own_telephone</th>\n",
       "      <th>foreign_worker</th>\n",
       "      <th>class</th>\n",
       "    </tr>\n",
       "  </thead>\n",
       "  <tbody>\n",
       "    <tr>\n",
       "      <th>0</th>\n",
       "      <td>&lt;0</td>\n",
       "      <td>6</td>\n",
       "      <td>'critical/other existing credit'</td>\n",
       "      <td>radio/tv</td>\n",
       "      <td>1169</td>\n",
       "      <td>'no known savings'</td>\n",
       "      <td>&gt;=7</td>\n",
       "      <td>4</td>\n",
       "      <td>'male single'</td>\n",
       "      <td>none</td>\n",
       "      <td>...</td>\n",
       "      <td>'real estate'</td>\n",
       "      <td>67</td>\n",
       "      <td>none</td>\n",
       "      <td>own</td>\n",
       "      <td>2</td>\n",
       "      <td>skilled</td>\n",
       "      <td>1</td>\n",
       "      <td>yes</td>\n",
       "      <td>yes</td>\n",
       "      <td>good</td>\n",
       "    </tr>\n",
       "    <tr>\n",
       "      <th>1</th>\n",
       "      <td>0&lt;=X&lt;200</td>\n",
       "      <td>48</td>\n",
       "      <td>'existing paid'</td>\n",
       "      <td>radio/tv</td>\n",
       "      <td>5951</td>\n",
       "      <td>&lt;100</td>\n",
       "      <td>1&lt;=X&lt;4</td>\n",
       "      <td>2</td>\n",
       "      <td>'female div/dep/mar'</td>\n",
       "      <td>none</td>\n",
       "      <td>...</td>\n",
       "      <td>'real estate'</td>\n",
       "      <td>22</td>\n",
       "      <td>none</td>\n",
       "      <td>own</td>\n",
       "      <td>1</td>\n",
       "      <td>skilled</td>\n",
       "      <td>1</td>\n",
       "      <td>none</td>\n",
       "      <td>yes</td>\n",
       "      <td>bad</td>\n",
       "    </tr>\n",
       "    <tr>\n",
       "      <th>2</th>\n",
       "      <td>'no checking'</td>\n",
       "      <td>12</td>\n",
       "      <td>'critical/other existing credit'</td>\n",
       "      <td>education</td>\n",
       "      <td>2096</td>\n",
       "      <td>&lt;100</td>\n",
       "      <td>4&lt;=X&lt;7</td>\n",
       "      <td>2</td>\n",
       "      <td>'male single'</td>\n",
       "      <td>none</td>\n",
       "      <td>...</td>\n",
       "      <td>'real estate'</td>\n",
       "      <td>49</td>\n",
       "      <td>none</td>\n",
       "      <td>own</td>\n",
       "      <td>1</td>\n",
       "      <td>'unskilled resident'</td>\n",
       "      <td>2</td>\n",
       "      <td>none</td>\n",
       "      <td>yes</td>\n",
       "      <td>good</td>\n",
       "    </tr>\n",
       "    <tr>\n",
       "      <th>3</th>\n",
       "      <td>&lt;0</td>\n",
       "      <td>42</td>\n",
       "      <td>'existing paid'</td>\n",
       "      <td>furniture/equipment</td>\n",
       "      <td>7882</td>\n",
       "      <td>&lt;100</td>\n",
       "      <td>4&lt;=X&lt;7</td>\n",
       "      <td>2</td>\n",
       "      <td>'male single'</td>\n",
       "      <td>guarantor</td>\n",
       "      <td>...</td>\n",
       "      <td>'life insurance'</td>\n",
       "      <td>45</td>\n",
       "      <td>none</td>\n",
       "      <td>'for free'</td>\n",
       "      <td>1</td>\n",
       "      <td>skilled</td>\n",
       "      <td>2</td>\n",
       "      <td>none</td>\n",
       "      <td>yes</td>\n",
       "      <td>good</td>\n",
       "    </tr>\n",
       "    <tr>\n",
       "      <th>4</th>\n",
       "      <td>&lt;0</td>\n",
       "      <td>24</td>\n",
       "      <td>'delayed previously'</td>\n",
       "      <td>'new car'</td>\n",
       "      <td>4870</td>\n",
       "      <td>&lt;100</td>\n",
       "      <td>1&lt;=X&lt;4</td>\n",
       "      <td>3</td>\n",
       "      <td>'male single'</td>\n",
       "      <td>none</td>\n",
       "      <td>...</td>\n",
       "      <td>'no known property'</td>\n",
       "      <td>53</td>\n",
       "      <td>none</td>\n",
       "      <td>'for free'</td>\n",
       "      <td>2</td>\n",
       "      <td>skilled</td>\n",
       "      <td>2</td>\n",
       "      <td>none</td>\n",
       "      <td>yes</td>\n",
       "      <td>bad</td>\n",
       "    </tr>\n",
       "  </tbody>\n",
       "</table>\n",
       "<p>5 rows × 21 columns</p>\n",
       "</div>"
      ],
      "text/plain": [
       "  checking_status  duration                    credit_history  \\\n",
       "0              <0         6  'critical/other existing credit'   \n",
       "1        0<=X<200        48                   'existing paid'   \n",
       "2   'no checking'        12  'critical/other existing credit'   \n",
       "3              <0        42                   'existing paid'   \n",
       "4              <0        24              'delayed previously'   \n",
       "\n",
       "               purpose  credit_amount      savings_status employment  \\\n",
       "0             radio/tv           1169  'no known savings'        >=7   \n",
       "1             radio/tv           5951                <100     1<=X<4   \n",
       "2            education           2096                <100     4<=X<7   \n",
       "3  furniture/equipment           7882                <100     4<=X<7   \n",
       "4            'new car'           4870                <100     1<=X<4   \n",
       "\n",
       "   installment_commitment       personal_status other_parties  ...  \\\n",
       "0                       4         'male single'          none  ...   \n",
       "1                       2  'female div/dep/mar'          none  ...   \n",
       "2                       2         'male single'          none  ...   \n",
       "3                       2         'male single'     guarantor  ...   \n",
       "4                       3         'male single'          none  ...   \n",
       "\n",
       "    property_magnitude age  other_payment_plans     housing existing_credits  \\\n",
       "0        'real estate'  67                 none         own                2   \n",
       "1        'real estate'  22                 none         own                1   \n",
       "2        'real estate'  49                 none         own                1   \n",
       "3     'life insurance'  45                 none  'for free'                1   \n",
       "4  'no known property'  53                 none  'for free'                2   \n",
       "\n",
       "                    job num_dependents  own_telephone foreign_worker class  \n",
       "0               skilled              1            yes            yes  good  \n",
       "1               skilled              1           none            yes   bad  \n",
       "2  'unskilled resident'              2           none            yes  good  \n",
       "3               skilled              2           none            yes  good  \n",
       "4               skilled              2           none            yes   bad  \n",
       "\n",
       "[5 rows x 21 columns]"
      ]
     },
     "execution_count": 4,
     "metadata": {},
     "output_type": "execute_result"
    }
   ],
   "source": [
    "credito.head()"
   ]
  },
  {
   "cell_type": "code",
   "execution_count": 5,
   "metadata": {},
   "outputs": [
    {
     "name": "stdout",
     "output_type": "stream",
     "text": [
      "<class 'pandas.core.frame.DataFrame'>\n",
      "RangeIndex: 1000 entries, 0 to 999\n",
      "Data columns (total 21 columns):\n",
      "checking_status           1000 non-null object\n",
      "duration                  1000 non-null int64\n",
      "credit_history            1000 non-null object\n",
      "purpose                   1000 non-null object\n",
      "credit_amount             1000 non-null int64\n",
      "savings_status            1000 non-null object\n",
      "employment                1000 non-null object\n",
      "installment_commitment    1000 non-null int64\n",
      "personal_status           1000 non-null object\n",
      "other_parties             1000 non-null object\n",
      "residence_since           1000 non-null int64\n",
      "property_magnitude        1000 non-null object\n",
      "age                       1000 non-null int64\n",
      "other_payment_plans       1000 non-null object\n",
      "housing                   1000 non-null object\n",
      "existing_credits          1000 non-null int64\n",
      "job                       1000 non-null object\n",
      "num_dependents            1000 non-null int64\n",
      "own_telephone             1000 non-null object\n",
      "foreign_worker            1000 non-null object\n",
      "class                     1000 non-null object\n",
      "dtypes: int64(7), object(14)\n",
      "memory usage: 164.1+ KB\n"
     ]
    }
   ],
   "source": [
    "credito.info()"
   ]
  },
  {
   "cell_type": "code",
   "execution_count": 6,
   "metadata": {},
   "outputs": [
    {
     "data": {
      "text/html": [
       "<div>\n",
       "<style scoped>\n",
       "    .dataframe tbody tr th:only-of-type {\n",
       "        vertical-align: middle;\n",
       "    }\n",
       "\n",
       "    .dataframe tbody tr th {\n",
       "        vertical-align: top;\n",
       "    }\n",
       "\n",
       "    .dataframe thead th {\n",
       "        text-align: right;\n",
       "    }\n",
       "</style>\n",
       "<table border=\"1\" class=\"dataframe\">\n",
       "  <thead>\n",
       "    <tr style=\"text-align: right;\">\n",
       "      <th></th>\n",
       "      <th>duration</th>\n",
       "      <th>credit_amount</th>\n",
       "      <th>installment_commitment</th>\n",
       "      <th>residence_since</th>\n",
       "      <th>age</th>\n",
       "      <th>existing_credits</th>\n",
       "      <th>num_dependents</th>\n",
       "    </tr>\n",
       "  </thead>\n",
       "  <tbody>\n",
       "    <tr>\n",
       "      <th>count</th>\n",
       "      <td>1000.000000</td>\n",
       "      <td>1000.000000</td>\n",
       "      <td>1000.000000</td>\n",
       "      <td>1000.000000</td>\n",
       "      <td>1000.000000</td>\n",
       "      <td>1000.000000</td>\n",
       "      <td>1000.000000</td>\n",
       "    </tr>\n",
       "    <tr>\n",
       "      <th>mean</th>\n",
       "      <td>20.903000</td>\n",
       "      <td>3271.258000</td>\n",
       "      <td>2.973000</td>\n",
       "      <td>2.845000</td>\n",
       "      <td>35.546000</td>\n",
       "      <td>1.407000</td>\n",
       "      <td>1.155000</td>\n",
       "    </tr>\n",
       "    <tr>\n",
       "      <th>std</th>\n",
       "      <td>12.058814</td>\n",
       "      <td>2822.736876</td>\n",
       "      <td>1.118715</td>\n",
       "      <td>1.103718</td>\n",
       "      <td>11.375469</td>\n",
       "      <td>0.577654</td>\n",
       "      <td>0.362086</td>\n",
       "    </tr>\n",
       "    <tr>\n",
       "      <th>min</th>\n",
       "      <td>4.000000</td>\n",
       "      <td>250.000000</td>\n",
       "      <td>1.000000</td>\n",
       "      <td>1.000000</td>\n",
       "      <td>19.000000</td>\n",
       "      <td>1.000000</td>\n",
       "      <td>1.000000</td>\n",
       "    </tr>\n",
       "    <tr>\n",
       "      <th>25%</th>\n",
       "      <td>12.000000</td>\n",
       "      <td>1365.500000</td>\n",
       "      <td>2.000000</td>\n",
       "      <td>2.000000</td>\n",
       "      <td>27.000000</td>\n",
       "      <td>1.000000</td>\n",
       "      <td>1.000000</td>\n",
       "    </tr>\n",
       "    <tr>\n",
       "      <th>50%</th>\n",
       "      <td>18.000000</td>\n",
       "      <td>2319.500000</td>\n",
       "      <td>3.000000</td>\n",
       "      <td>3.000000</td>\n",
       "      <td>33.000000</td>\n",
       "      <td>1.000000</td>\n",
       "      <td>1.000000</td>\n",
       "    </tr>\n",
       "    <tr>\n",
       "      <th>75%</th>\n",
       "      <td>24.000000</td>\n",
       "      <td>3972.250000</td>\n",
       "      <td>4.000000</td>\n",
       "      <td>4.000000</td>\n",
       "      <td>42.000000</td>\n",
       "      <td>2.000000</td>\n",
       "      <td>1.000000</td>\n",
       "    </tr>\n",
       "    <tr>\n",
       "      <th>max</th>\n",
       "      <td>72.000000</td>\n",
       "      <td>18424.000000</td>\n",
       "      <td>4.000000</td>\n",
       "      <td>4.000000</td>\n",
       "      <td>75.000000</td>\n",
       "      <td>4.000000</td>\n",
       "      <td>2.000000</td>\n",
       "    </tr>\n",
       "  </tbody>\n",
       "</table>\n",
       "</div>"
      ],
      "text/plain": [
       "          duration  credit_amount  installment_commitment  residence_since  \\\n",
       "count  1000.000000    1000.000000             1000.000000      1000.000000   \n",
       "mean     20.903000    3271.258000                2.973000         2.845000   \n",
       "std      12.058814    2822.736876                1.118715         1.103718   \n",
       "min       4.000000     250.000000                1.000000         1.000000   \n",
       "25%      12.000000    1365.500000                2.000000         2.000000   \n",
       "50%      18.000000    2319.500000                3.000000         3.000000   \n",
       "75%      24.000000    3972.250000                4.000000         4.000000   \n",
       "max      72.000000   18424.000000                4.000000         4.000000   \n",
       "\n",
       "               age  existing_credits  num_dependents  \n",
       "count  1000.000000       1000.000000     1000.000000  \n",
       "mean     35.546000          1.407000        1.155000  \n",
       "std      11.375469          0.577654        0.362086  \n",
       "min      19.000000          1.000000        1.000000  \n",
       "25%      27.000000          1.000000        1.000000  \n",
       "50%      33.000000          1.000000        1.000000  \n",
       "75%      42.000000          2.000000        1.000000  \n",
       "max      75.000000          4.000000        2.000000  "
      ]
     },
     "execution_count": 6,
     "metadata": {},
     "output_type": "execute_result"
    }
   ],
   "source": [
    "credito.describe()"
   ]
  },
  {
   "cell_type": "code",
   "execution_count": 7,
   "metadata": {},
   "outputs": [],
   "source": [
    "previsores = credito.iloc[:,0:20].values"
   ]
  },
  {
   "cell_type": "code",
   "execution_count": 9,
   "metadata": {},
   "outputs": [
    {
     "data": {
      "text/plain": [
       "array(['<0', 6, \"'critical/other existing credit'\", 'radio/tv', 1169,\n",
       "       \"'no known savings'\", '>=7', 4, \"'male single'\", 'none', 4,\n",
       "       \"'real estate'\", 67, 'none', 'own', 2, 'skilled', 1, 'yes', 'yes'],\n",
       "      dtype=object)"
      ]
     },
     "execution_count": 9,
     "metadata": {},
     "output_type": "execute_result"
    }
   ],
   "source": [
    "previsores[0]"
   ]
  },
  {
   "cell_type": "code",
   "execution_count": 10,
   "metadata": {},
   "outputs": [],
   "source": [
    "classe=credito.iloc[:,20].values"
   ]
  },
  {
   "cell_type": "code",
   "execution_count": 12,
   "metadata": {},
   "outputs": [
    {
     "data": {
      "text/plain": [
       "array(['good', 'bad', 'good', 'good', 'bad', 'good', 'good', 'good',\n",
       "       'good', 'bad', 'bad', 'bad', 'good', 'bad', 'good', 'bad', 'good',\n",
       "       'good', 'bad', 'good', 'good', 'good', 'good', 'good', 'good',\n",
       "       'good', 'good', 'good', 'good', 'bad', 'good', 'good', 'good',\n",
       "       'good', 'good', 'bad', 'good', 'bad', 'good', 'good', 'good',\n",
       "       'good', 'good', 'good', 'bad', 'good', 'good', 'good', 'good',\n",
       "       'good', 'good', 'good', 'good', 'good', 'bad', 'good', 'bad',\n",
       "       'good', 'good', 'bad', 'good', 'good', 'bad', 'bad', 'good',\n",
       "       'good', 'good', 'good', 'bad', 'good', 'good', 'good', 'good',\n",
       "       'good', 'bad', 'good', 'bad', 'good', 'good', 'good', 'bad',\n",
       "       'good', 'good', 'good', 'good', 'good', 'good', 'bad', 'good',\n",
       "       'bad', 'good', 'good', 'bad', 'good', 'good', 'bad', 'good',\n",
       "       'good', 'good', 'good', 'good', 'good', 'good', 'good', 'good',\n",
       "       'bad', 'bad', 'good', 'good', 'good', 'good', 'good', 'good',\n",
       "       'bad', 'good', 'good', 'bad', 'good', 'bad', 'good', 'bad', 'good',\n",
       "       'good', 'good', 'bad', 'good', 'good', 'bad', 'good', 'bad',\n",
       "       'good', 'bad', 'good', 'good', 'good', 'good', 'good', 'bad',\n",
       "       'good', 'good', 'good', 'good', 'good', 'bad', 'good', 'good',\n",
       "       'good', 'good', 'good', 'good', 'good', 'good', 'good', 'good',\n",
       "       'good', 'bad', 'good', 'good', 'good', 'good', 'good', 'good',\n",
       "       'good', 'good', 'good', 'good', 'bad', 'good', 'good', 'bad',\n",
       "       'bad', 'good', 'bad', 'good', 'bad', 'bad', 'good', 'good', 'good',\n",
       "       'good', 'bad', 'bad', 'bad', 'good', 'bad', 'good', 'bad', 'good',\n",
       "       'bad', 'good', 'bad', 'bad', 'bad', 'good', 'bad', 'bad', 'good',\n",
       "       'bad', 'good', 'bad', 'good', 'good', 'good', 'bad', 'good',\n",
       "       'good', 'good', 'good', 'good', 'good', 'good', 'good', 'bad',\n",
       "       'bad', 'good', 'good', 'good', 'good', 'good', 'good', 'good',\n",
       "       'good', 'good', 'good', 'good', 'good', 'bad', 'bad', 'bad',\n",
       "       'good', 'bad', 'good', 'good', 'good', 'good', 'bad', 'bad', 'bad',\n",
       "       'good', 'good', 'bad', 'good', 'bad', 'good', 'good', 'good',\n",
       "       'good', 'good', 'good', 'bad', 'good', 'good', 'bad', 'good',\n",
       "       'good', 'good', 'good', 'bad', 'good', 'good', 'good', 'good',\n",
       "       'good', 'good', 'good', 'bad', 'good', 'good', 'bad', 'good',\n",
       "       'good', 'good', 'good', 'bad', 'bad', 'good', 'good', 'good',\n",
       "       'bad', 'good', 'good', 'good', 'good', 'good', 'good', 'good',\n",
       "       'good', 'good', 'good', 'bad', 'good', 'bad', 'good', 'good',\n",
       "       'good', 'bad', 'good', 'good', 'good', 'good', 'good', 'bad',\n",
       "       'bad', 'good', 'bad', 'good', 'good', 'bad', 'bad', 'good', 'good',\n",
       "       'good', 'good', 'bad', 'good', 'bad', 'good', 'good', 'good',\n",
       "       'good', 'bad', 'bad', 'good', 'good', 'good', 'good', 'good',\n",
       "       'good', 'good', 'good', 'good', 'bad', 'bad', 'bad', 'bad', 'bad',\n",
       "       'good', 'bad', 'good', 'good', 'good', 'good', 'good', 'good',\n",
       "       'good', 'good', 'good', 'good', 'good', 'bad', 'good', 'bad',\n",
       "       'good', 'bad', 'good', 'bad', 'good', 'bad', 'good', 'bad', 'good',\n",
       "       'good', 'good', 'good', 'bad', 'good', 'good', 'good', 'bad',\n",
       "       'good', 'good', 'good', 'good', 'good', 'bad', 'bad', 'good',\n",
       "       'good', 'bad', 'good', 'good', 'bad', 'good', 'good', 'good',\n",
       "       'good', 'good', 'good', 'good', 'good', 'good', 'good', 'good',\n",
       "       'good', 'good', 'good', 'good', 'good', 'bad', 'good', 'good',\n",
       "       'good', 'bad', 'good', 'good', 'bad', 'good', 'good', 'good',\n",
       "       'bad', 'good', 'good', 'bad', 'good', 'bad', 'good', 'bad', 'good',\n",
       "       'good', 'bad', 'good', 'good', 'good', 'good', 'bad', 'good',\n",
       "       'good', 'good', 'good', 'bad', 'good', 'bad', 'good', 'good',\n",
       "       'good', 'bad', 'good', 'good', 'good', 'bad', 'good', 'good',\n",
       "       'good', 'bad', 'bad', 'good', 'bad', 'good', 'good', 'bad', 'good',\n",
       "       'good', 'good', 'good', 'bad', 'good', 'good', 'bad', 'good',\n",
       "       'good', 'good', 'good', 'good', 'good', 'good', 'good', 'bad',\n",
       "       'good', 'good', 'good', 'bad', 'bad', 'bad', 'good', 'bad', 'bad',\n",
       "       'good', 'good', 'good', 'good', 'good', 'good', 'good', 'good',\n",
       "       'good', 'bad', 'good', 'good', 'good', 'good', 'good', 'bad',\n",
       "       'good', 'good', 'good', 'bad', 'bad', 'good', 'good', 'good',\n",
       "       'bad', 'good', 'good', 'bad', 'bad', 'bad', 'good', 'bad', 'good',\n",
       "       'good', 'bad', 'good', 'good', 'good', 'good', 'good', 'good',\n",
       "       'bad', 'good', 'good', 'good', 'bad', 'bad', 'good', 'good',\n",
       "       'good', 'good', 'good', 'bad', 'good', 'good', 'bad', 'good',\n",
       "       'good', 'good', 'bad', 'good', 'good', 'bad', 'good', 'bad',\n",
       "       'good', 'bad', 'bad', 'good', 'bad', 'good', 'good', 'bad', 'good',\n",
       "       'good', 'good', 'bad', 'good', 'good', 'bad', 'bad', 'bad', 'bad',\n",
       "       'bad', 'good', 'bad', 'good', 'bad', 'good', 'good', 'bad', 'good',\n",
       "       'good', 'bad', 'bad', 'good', 'good', 'good', 'good', 'good',\n",
       "       'good', 'good', 'bad', 'good', 'bad', 'good', 'good', 'bad',\n",
       "       'good', 'bad', 'good', 'good', 'bad', 'bad', 'good', 'good',\n",
       "       'good', 'bad', 'bad', 'bad', 'bad', 'bad', 'bad', 'good', 'good',\n",
       "       'bad', 'bad', 'bad', 'good', 'good', 'good', 'bad', 'good', 'good',\n",
       "       'bad', 'bad', 'good', 'good', 'bad', 'good', 'good', 'good', 'bad',\n",
       "       'good', 'good', 'bad', 'bad', 'good', 'bad', 'good', 'good', 'bad',\n",
       "       'good', 'good', 'good', 'bad', 'good', 'bad', 'bad', 'good',\n",
       "       'good', 'good', 'good', 'bad', 'bad', 'good', 'bad', 'good',\n",
       "       'good', 'bad', 'good', 'bad', 'bad', 'bad', 'good', 'bad', 'bad',\n",
       "       'bad', 'good', 'good', 'bad', 'good', 'good', 'good', 'good',\n",
       "       'bad', 'good', 'good', 'good', 'good', 'good', 'good', 'bad',\n",
       "       'good', 'good', 'good', 'good', 'good', 'bad', 'good', 'good',\n",
       "       'bad', 'good', 'good', 'good', 'good', 'good', 'good', 'good',\n",
       "       'good', 'good', 'good', 'good', 'good', 'good', 'good', 'good',\n",
       "       'good', 'good', 'good', 'good', 'good', 'good', 'good', 'bad',\n",
       "       'bad', 'good', 'good', 'good', 'good', 'bad', 'bad', 'good',\n",
       "       'good', 'good', 'bad', 'good', 'good', 'bad', 'good', 'good',\n",
       "       'good', 'good', 'good', 'bad', 'bad', 'bad', 'good', 'bad', 'good',\n",
       "       'good', 'bad', 'bad', 'good', 'good', 'bad', 'good', 'good',\n",
       "       'good', 'good', 'bad', 'good', 'good', 'bad', 'good', 'good',\n",
       "       'good', 'good', 'good', 'good', 'good', 'bad', 'good', 'good',\n",
       "       'good', 'bad', 'good', 'good', 'bad', 'bad', 'good', 'bad', 'good',\n",
       "       'bad', 'good', 'bad', 'good', 'bad', 'good', 'good', 'bad', 'good',\n",
       "       'good', 'good', 'good', 'bad', 'good', 'good', 'good', 'bad',\n",
       "       'good', 'good', 'good', 'good', 'bad', 'good', 'good', 'bad',\n",
       "       'good', 'good', 'good', 'good', 'bad', 'bad', 'bad', 'good',\n",
       "       'good', 'good', 'good', 'good', 'bad', 'good', 'good', 'good',\n",
       "       'good', 'good', 'good', 'good', 'good', 'bad', 'good', 'good',\n",
       "       'good', 'bad', 'good', 'good', 'bad', 'bad', 'bad', 'good', 'good',\n",
       "       'good', 'good', 'bad', 'good', 'good', 'bad', 'good', 'good',\n",
       "       'good', 'bad', 'bad', 'bad', 'good', 'good', 'bad', 'bad', 'good',\n",
       "       'bad', 'bad', 'good', 'good', 'good', 'good', 'bad', 'good', 'bad',\n",
       "       'good', 'good', 'good', 'bad', 'good', 'good', 'bad', 'bad',\n",
       "       'good', 'good', 'bad', 'good', 'good', 'good', 'good', 'bad',\n",
       "       'good', 'good', 'bad', 'bad', 'good', 'bad', 'good', 'good',\n",
       "       'good', 'good', 'good', 'good', 'good', 'good', 'good', 'good',\n",
       "       'good', 'good', 'good', 'bad', 'good', 'good', 'good', 'good',\n",
       "       'good', 'bad', 'bad', 'good', 'bad', 'good', 'good', 'good',\n",
       "       'good', 'good', 'good', 'good', 'good', 'good', 'good', 'good',\n",
       "       'bad', 'bad', 'good', 'good', 'good', 'good', 'good', 'good',\n",
       "       'good', 'good', 'good', 'good', 'bad', 'good', 'good', 'bad',\n",
       "       'bad', 'good', 'bad', 'bad', 'bad', 'good', 'good', 'bad', 'good',\n",
       "       'bad', 'bad', 'good', 'bad', 'good', 'good', 'good', 'bad', 'good',\n",
       "       'good', 'good', 'bad', 'bad', 'good', 'bad', 'good', 'good',\n",
       "       'good', 'good', 'good', 'good', 'good', 'bad', 'good', 'bad',\n",
       "       'bad', 'good', 'bad', 'bad', 'bad', 'good', 'good', 'good', 'good',\n",
       "       'bad', 'good', 'good', 'good', 'good', 'bad', 'good', 'good',\n",
       "       'bad', 'good', 'good', 'good', 'good', 'good', 'bad', 'bad',\n",
       "       'good', 'good', 'good', 'good', 'bad', 'bad', 'bad', 'bad', 'good',\n",
       "       'bad', 'good', 'good', 'good', 'good', 'good', 'good', 'good',\n",
       "       'good', 'good', 'good', 'good', 'good', 'good', 'good', 'bad',\n",
       "       'good'], dtype=object)"
      ]
     },
     "execution_count": 12,
     "metadata": {},
     "output_type": "execute_result"
    }
   ],
   "source": [
    "classe"
   ]
  },
  {
   "cell_type": "code",
   "execution_count": 16,
   "metadata": {},
   "outputs": [],
   "source": [
    "labelencoder=LabelEncoder()\n",
    "previsores[:,0]=labelencoder.fit_transform(previsores[:,0])"
   ]
  },
  {
   "cell_type": "code",
   "execution_count": 17,
   "metadata": {},
   "outputs": [
    {
     "data": {
      "text/plain": [
       "array([[2, 6, \"'critical/other existing credit'\", 'radio/tv', 1169,\n",
       "        \"'no known savings'\", '>=7', 4, \"'male single'\", 'none', 4,\n",
       "        \"'real estate'\", 67, 'none', 'own', 2, 'skilled', 1, 'yes',\n",
       "        'yes'],\n",
       "       [1, 48, \"'existing paid'\", 'radio/tv', 5951, '<100', '1<=X<4', 2,\n",
       "        \"'female div/dep/mar'\", 'none', 2, \"'real estate'\", 22, 'none',\n",
       "        'own', 1, 'skilled', 1, 'none', 'yes'],\n",
       "       [0, 12, \"'critical/other existing credit'\", 'education', 2096,\n",
       "        '<100', '4<=X<7', 2, \"'male single'\", 'none', 3, \"'real estate'\",\n",
       "        49, 'none', 'own', 1, \"'unskilled resident'\", 2, 'none', 'yes'],\n",
       "       [2, 42, \"'existing paid'\", 'furniture/equipment', 7882, '<100',\n",
       "        '4<=X<7', 2, \"'male single'\", 'guarantor', 4, \"'life insurance'\",\n",
       "        45, 'none', \"'for free'\", 1, 'skilled', 2, 'none', 'yes'],\n",
       "       [2, 24, \"'delayed previously'\", \"'new car'\", 4870, '<100',\n",
       "        '1<=X<4', 3, \"'male single'\", 'none', 4, \"'no known property'\",\n",
       "        53, 'none', \"'for free'\", 2, 'skilled', 2, 'none', 'yes'],\n",
       "       [0, 36, \"'existing paid'\", 'education', 9055,\n",
       "        \"'no known savings'\", '1<=X<4', 2, \"'male single'\", 'none', 4,\n",
       "        \"'no known property'\", 35, 'none', \"'for free'\", 1,\n",
       "        \"'unskilled resident'\", 2, 'yes', 'yes'],\n",
       "       [0, 24, \"'existing paid'\", 'furniture/equipment', 2835,\n",
       "        '500<=X<1000', '>=7', 3, \"'male single'\", 'none', 4,\n",
       "        \"'life insurance'\", 53, 'none', 'own', 1, 'skilled', 1, 'none',\n",
       "        'yes'],\n",
       "       [1, 36, \"'existing paid'\", \"'used car'\", 6948, '<100', '1<=X<4',\n",
       "        2, \"'male single'\", 'none', 2, 'car', 35, 'none', 'rent', 1,\n",
       "        \"'high qualif/self emp/mgmt'\", 1, 'yes', 'yes'],\n",
       "       [0, 12, \"'existing paid'\", 'radio/tv', 3059, '>=1000', '4<=X<7',\n",
       "        2, \"'male div/sep'\", 'none', 4, \"'real estate'\", 61, 'none',\n",
       "        'own', 1, \"'unskilled resident'\", 1, 'none', 'yes'],\n",
       "       [1, 30, \"'critical/other existing credit'\", \"'new car'\", 5234,\n",
       "        '<100', 'unemployed', 4, \"'male mar/wid'\", 'none', 2, 'car', 28,\n",
       "        'none', 'own', 2, \"'high qualif/self emp/mgmt'\", 1, 'none',\n",
       "        'yes']], dtype=object)"
      ]
     },
     "execution_count": 17,
     "metadata": {},
     "output_type": "execute_result"
    }
   ],
   "source": [
    "previsores[0:10]"
   ]
  },
  {
   "cell_type": "code",
   "execution_count": 18,
   "metadata": {},
   "outputs": [],
   "source": [
    "previsores[:,2]=labelencoder.fit_transform(previsores[:,2])"
   ]
  },
  {
   "cell_type": "code",
   "execution_count": 19,
   "metadata": {},
   "outputs": [
    {
     "data": {
      "text/plain": [
       "1"
      ]
     },
     "execution_count": 19,
     "metadata": {},
     "output_type": "execute_result"
    }
   ],
   "source": [
    "previsores[0][2]"
   ]
  },
  {
   "cell_type": "code",
   "execution_count": 20,
   "metadata": {},
   "outputs": [
    {
     "data": {
      "text/plain": [
       "array([[2, 6, 1, 'radio/tv', 1169, \"'no known savings'\", '>=7', 4,\n",
       "        \"'male single'\", 'none', 4, \"'real estate'\", 67, 'none', 'own',\n",
       "        2, 'skilled', 1, 'yes', 'yes'],\n",
       "       [1, 48, 3, 'radio/tv', 5951, '<100', '1<=X<4', 2,\n",
       "        \"'female div/dep/mar'\", 'none', 2, \"'real estate'\", 22, 'none',\n",
       "        'own', 1, 'skilled', 1, 'none', 'yes'],\n",
       "       [0, 12, 1, 'education', 2096, '<100', '4<=X<7', 2,\n",
       "        \"'male single'\", 'none', 3, \"'real estate'\", 49, 'none', 'own',\n",
       "        1, \"'unskilled resident'\", 2, 'none', 'yes'],\n",
       "       [2, 42, 3, 'furniture/equipment', 7882, '<100', '4<=X<7', 2,\n",
       "        \"'male single'\", 'guarantor', 4, \"'life insurance'\", 45, 'none',\n",
       "        \"'for free'\", 1, 'skilled', 2, 'none', 'yes'],\n",
       "       [2, 24, 2, \"'new car'\", 4870, '<100', '1<=X<4', 3,\n",
       "        \"'male single'\", 'none', 4, \"'no known property'\", 53, 'none',\n",
       "        \"'for free'\", 2, 'skilled', 2, 'none', 'yes']], dtype=object)"
      ]
     },
     "execution_count": 20,
     "metadata": {},
     "output_type": "execute_result"
    }
   ],
   "source": [
    "previsores[0:5]"
   ]
  },
  {
   "cell_type": "code",
   "execution_count": 21,
   "metadata": {},
   "outputs": [],
   "source": [
    "previsores[:,3]=labelencoder.fit_transform(previsores[:,3])\n",
    "previsores[:,5]=labelencoder.fit_transform(previsores[:,5])\n",
    "previsores[:,6]=labelencoder.fit_transform(previsores[:,6])\n",
    "previsores[:,8]=labelencoder.fit_transform(previsores[:,8])\n",
    "previsores[:,9]=labelencoder.fit_transform(previsores[:,9])\n",
    "previsores[:,11]=labelencoder.fit_transform(previsores[:,11])\n",
    "previsores[:,13]=labelencoder.fit_transform(previsores[:,13])\n",
    "previsores[:,14]=labelencoder.fit_transform(previsores[:,14])\n",
    "previsores[:,16]=labelencoder.fit_transform(previsores[:,16])\n",
    "previsores[:,18]=labelencoder.fit_transform(previsores[:,18])\n",
    "previsores[:,19]=labelencoder.fit_transform(previsores[:,19])\n"
   ]
  },
  {
   "cell_type": "code",
   "execution_count": 22,
   "metadata": {},
   "outputs": [
    {
     "data": {
      "text/plain": [
       "array([2, 6, 1, 7, 1169, 0, 3, 4, 3, 2, 4, 2, 67, 1, 1, 2, 3, 1, 1, 1],\n",
       "      dtype=object)"
      ]
     },
     "execution_count": 22,
     "metadata": {},
     "output_type": "execute_result"
    }
   ],
   "source": [
    "previsores[0]"
   ]
  },
  {
   "cell_type": "code",
   "execution_count": 23,
   "metadata": {},
   "outputs": [
    {
     "data": {
      "text/plain": [
       "dtype('O')"
      ]
     },
     "execution_count": 23,
     "metadata": {},
     "output_type": "execute_result"
    }
   ],
   "source": [
    "previsores.dtype"
   ]
  },
  {
   "cell_type": "code",
   "execution_count": 24,
   "metadata": {},
   "outputs": [],
   "source": [
    "X_treinamento,X_teste,y_treinamento,y_teste = train_test_split(previsores,classe,test_size=0.3,random_state=0)"
   ]
  },
  {
   "cell_type": "code",
   "execution_count": 26,
   "metadata": {},
   "outputs": [
    {
     "data": {
      "text/plain": [
       "300"
      ]
     },
     "execution_count": 26,
     "metadata": {},
     "output_type": "execute_result"
    }
   ],
   "source": [
    "len(X_teste)"
   ]
  },
  {
   "cell_type": "code",
   "execution_count": 28,
   "metadata": {},
   "outputs": [
    {
     "data": {
      "text/plain": [
       "300"
      ]
     },
     "execution_count": 28,
     "metadata": {},
     "output_type": "execute_result"
    }
   ],
   "source": [
    "len(y_teste)"
   ]
  },
  {
   "cell_type": "code",
   "execution_count": 29,
   "metadata": {},
   "outputs": [
    {
     "data": {
      "text/plain": [
       "700"
      ]
     },
     "execution_count": 29,
     "metadata": {},
     "output_type": "execute_result"
    }
   ],
   "source": [
    "len(X_treinamento)"
   ]
  },
  {
   "cell_type": "code",
   "execution_count": 30,
   "metadata": {},
   "outputs": [
    {
     "data": {
      "text/plain": [
       "700"
      ]
     },
     "execution_count": 30,
     "metadata": {},
     "output_type": "execute_result"
    }
   ],
   "source": [
    "len(y_treinamento)"
   ]
  },
  {
   "cell_type": "code",
   "execution_count": 31,
   "metadata": {},
   "outputs": [
    {
     "data": {
      "text/plain": [
       "array([1, 24, 1, 6, 11938, 3, 0, 2, 3, 0, 3, 3, 39, 1, 1, 2, 0, 2, 1, 1],\n",
       "      dtype=object)"
      ]
     },
     "execution_count": 31,
     "metadata": {},
     "output_type": "execute_result"
    }
   ],
   "source": [
    "X_treinamento[0]"
   ]
  },
  {
   "cell_type": "code",
   "execution_count": 33,
   "metadata": {},
   "outputs": [
    {
     "data": {
      "text/plain": [
       "GaussianNB(priors=None, var_smoothing=1e-09)"
      ]
     },
     "execution_count": 33,
     "metadata": {},
     "output_type": "execute_result"
    }
   ],
   "source": [
    "naive_bayes=GaussianNB()\n",
    "naive_bayes.fit(X_treinamento,y_treinamento)"
   ]
  },
  {
   "cell_type": "code",
   "execution_count": 34,
   "metadata": {},
   "outputs": [],
   "source": [
    "previsoes = naive_bayes.predict(X_teste)"
   ]
  },
  {
   "cell_type": "code",
   "execution_count": 35,
   "metadata": {},
   "outputs": [
    {
     "data": {
      "text/plain": [
       "300"
      ]
     },
     "execution_count": 35,
     "metadata": {},
     "output_type": "execute_result"
    }
   ],
   "source": [
    "len(previsoes)"
   ]
  },
  {
   "cell_type": "code",
   "execution_count": 40,
   "metadata": {},
   "outputs": [
    {
     "data": {
      "text/plain": [
       "array(['bad', 'good', 'good', 'good', 'bad'], dtype='<U4')"
      ]
     },
     "execution_count": 40,
     "metadata": {},
     "output_type": "execute_result"
    }
   ],
   "source": [
    "previsoes[0:5]"
   ]
  },
  {
   "cell_type": "code",
   "execution_count": 41,
   "metadata": {},
   "outputs": [
    {
     "data": {
      "text/plain": [
       "array(['good', 'good', 'good', 'good', 'good'], dtype=object)"
      ]
     },
     "execution_count": 41,
     "metadata": {},
     "output_type": "execute_result"
    }
   ],
   "source": [
    "y_teste[0:5]"
   ]
  },
  {
   "cell_type": "code",
   "execution_count": 43,
   "metadata": {},
   "outputs": [],
   "source": [
    "confusao = confusion_matrix(y_teste,previsoes)"
   ]
  },
  {
   "cell_type": "code",
   "execution_count": 44,
   "metadata": {},
   "outputs": [
    {
     "data": {
      "text/plain": [
       "array([[ 41,  45],\n",
       "       [ 42, 172]])"
      ]
     },
     "execution_count": 44,
     "metadata": {},
     "output_type": "execute_result"
    }
   ],
   "source": [
    "confusao"
   ]
  },
  {
   "cell_type": "code",
   "execution_count": 45,
   "metadata": {},
   "outputs": [],
   "source": [
    "taxa_acerto=accuracy_score(y_teste,previsoes)"
   ]
  },
  {
   "cell_type": "code",
   "execution_count": 46,
   "metadata": {},
   "outputs": [
    {
     "data": {
      "text/plain": [
       "0.71"
      ]
     },
     "execution_count": 46,
     "metadata": {},
     "output_type": "execute_result"
    }
   ],
   "source": [
    "taxa_acerto "
   ]
  },
  {
   "cell_type": "code",
   "execution_count": 47,
   "metadata": {},
   "outputs": [],
   "source": [
    "# Tivemos um 71% de acerto com esse algoritmo"
   ]
  },
  {
   "cell_type": "code",
   "execution_count": 48,
   "metadata": {},
   "outputs": [],
   "source": [
    "taxa_erro=1-taxa_acerto"
   ]
  },
  {
   "cell_type": "code",
   "execution_count": 49,
   "metadata": {},
   "outputs": [
    {
     "data": {
      "text/plain": [
       "0.29000000000000004"
      ]
     },
     "execution_count": 49,
     "metadata": {},
     "output_type": "execute_result"
    }
   ],
   "source": [
    "taxa_erro"
   ]
  },
  {
   "cell_type": "code",
   "execution_count": 50,
   "metadata": {},
   "outputs": [],
   "source": [
    "# Tivemos um 29% de erro"
   ]
  },
  {
   "cell_type": "code",
   "execution_count": 56,
   "metadata": {},
   "outputs": [
    {
     "data": {
      "image/png": "[encoded data removed]",
      "text/plain": [
       "<Figure size 432x288 with 1 Axes>"
      ]
     },
     "metadata": {
      "needs_background": "light"
     },
     "output_type": "display_data"
    },
    {
     "data": {
      "text/plain": [
       "<matplotlib.axes._subplots.AxesSubplot at 0x1253e65f8>"
      ]
     },
     "execution_count": 56,
     "metadata": {},
     "output_type": "execute_result"
    }
   ],
   "source": [
    "v=ConfusionMatrix(GaussianNB())\n",
    "v.fit(X_treinamento,y_treinamento)\n",
    "v.score(X_teste,y_teste)\n",
    "v.poof()"
   ]
  },
  {
   "cell_type": "code",
   "execution_count": 58,
   "metadata": {},
   "outputs": [],
   "source": [
    "# Simulando o modelo em produção\n",
    "novo_credito=pd.read_csv('NovoCredit.csv')"
   ]
  },
  {
   "cell_type": "code",
   "execution_count": 59,
   "metadata": {},
   "outputs": [
    {
     "data": {
      "text/html": [
       "<div>\n",
       "<style scoped>\n",
       "    .dataframe tbody tr th:only-of-type {\n",
       "        vertical-align: middle;\n",
       "    }\n",
       "\n",
       "    .dataframe tbody tr th {\n",
       "        vertical-align: top;\n",
       "    }\n",
       "\n",
       "    .dataframe thead th {\n",
       "        text-align: right;\n",
       "    }\n",
       "</style>\n",
       "<table border=\"1\" class=\"dataframe\">\n",
       "  <thead>\n",
       "    <tr style=\"text-align: right;\">\n",
       "      <th></th>\n",
       "      <th>checking_status</th>\n",
       "      <th>duration</th>\n",
       "      <th>credit_history</th>\n",
       "      <th>purpose</th>\n",
       "      <th>credit_amount</th>\n",
       "      <th>savings_status</th>\n",
       "      <th>employment</th>\n",
       "      <th>installment_commitment</th>\n",
       "      <th>personal_status</th>\n",
       "      <th>other_parties</th>\n",
       "      <th>residence_since</th>\n",
       "      <th>property_magnitude</th>\n",
       "      <th>age</th>\n",
       "      <th>other_payment_plans</th>\n",
       "      <th>housing</th>\n",
       "      <th>existing_credits</th>\n",
       "      <th>job</th>\n",
       "      <th>num_dependents</th>\n",
       "      <th>own_telephone</th>\n",
       "      <th>foreign_worker</th>\n",
       "    </tr>\n",
       "  </thead>\n",
       "  <tbody>\n",
       "    <tr>\n",
       "      <th>0</th>\n",
       "      <td>'no checking'</td>\n",
       "      <td>12</td>\n",
       "      <td>'existing paid'</td>\n",
       "      <td>radio/tv</td>\n",
       "      <td>804</td>\n",
       "      <td>&lt;100</td>\n",
       "      <td>&gt;=7</td>\n",
       "      <td>4</td>\n",
       "      <td>'male single'</td>\n",
       "      <td>none</td>\n",
       "      <td>4</td>\n",
       "      <td>car</td>\n",
       "      <td>38</td>\n",
       "      <td>none</td>\n",
       "      <td>own</td>\n",
       "      <td>1</td>\n",
       "      <td>skilled</td>\n",
       "      <td>1</td>\n",
       "      <td>none</td>\n",
       "      <td>yes</td>\n",
       "    </tr>\n",
       "  </tbody>\n",
       "</table>\n",
       "</div>"
      ],
      "text/plain": [
       "  checking_status  duration   credit_history   purpose  credit_amount  \\\n",
       "0   'no checking'        12  'existing paid'  radio/tv            804   \n",
       "\n",
       "  savings_status employment  installment_commitment personal_status  \\\n",
       "0           <100        >=7                       4   'male single'   \n",
       "\n",
       "  other_parties  residence_since property_magnitude  age other_payment_plans  \\\n",
       "0          none                4                car   38                none   \n",
       "\n",
       "  housing  existing_credits      job  num_dependents own_telephone  \\\n",
       "0     own                 1  skilled               1          none   \n",
       "\n",
       "  foreign_worker  \n",
       "0            yes  "
      ]
     },
     "execution_count": 59,
     "metadata": {},
     "output_type": "execute_result"
    }
   ],
   "source": [
    "novo_credito"
   ]
  },
  {
   "cell_type": "code",
   "execution_count": 60,
   "metadata": {},
   "outputs": [],
   "source": [
    "novo_credito=novo_credito.iloc[:,0:20].values"
   ]
  },
  {
   "cell_type": "code",
   "execution_count": 61,
   "metadata": {},
   "outputs": [
    {
     "data": {
      "text/plain": [
       "array([[\"'no checking'\", 12, \"'existing paid'\", 'radio/tv', 804, '<100',\n",
       "        '>=7', 4, \"'male single'\", 'none', 4, 'car', 38, 'none', 'own',\n",
       "        1, 'skilled', 1, 'none', 'yes']], dtype=object)"
      ]
     },
     "execution_count": 61,
     "metadata": {},
     "output_type": "execute_result"
    }
   ],
   "source": [
    "novo_credito"
   ]
  },
  {
   "cell_type": "code",
   "execution_count": 62,
   "metadata": {},
   "outputs": [],
   "source": [
    "novo_credito[:,0]=labelencoder.fit_transform(novo_credito[:,0])\n",
    "novo_credito[:,2]=labelencoder.fit_transform(novo_credito[:,2])\n",
    "novo_credito[:,3]=labelencoder.fit_transform(novo_credito[:,3])\n",
    "novo_credito[:,5]=labelencoder.fit_transform(novo_credito[:,5])\n",
    "novo_credito[:,6]=labelencoder.fit_transform(novo_credito[:,6])\n",
    "novo_credito[:,8]=labelencoder.fit_transform(novo_credito[:,8])\n",
    "novo_credito[:,9]=labelencoder.fit_transform(novo_credito[:,9])\n",
    "novo_credito[:,11]=labelencoder.fit_transform(novo_credito[:,11])\n",
    "novo_credito[:,13]=labelencoder.fit_transform(novo_credito[:,13])\n",
    "novo_credito[:,14]=labelencoder.fit_transform(novo_credito[:,14])\n",
    "novo_credito[:,16]=labelencoder.fit_transform(novo_credito[:,16])\n",
    "novo_credito[:,18]=labelencoder.fit_transform(novo_credito[:,18])\n",
    "novo_credito[:,19]=labelencoder.fit_transform(novo_credito[:,19])"
   ]
  },
  {
   "cell_type": "code",
   "execution_count": 63,
   "metadata": {},
   "outputs": [
    {
     "data": {
      "text/plain": [
       "array([[0, 12, 0, 0, 804, 0, 0, 4, 0, 0, 4, 0, 38, 0, 0, 1, 0, 1, 0, 0]],\n",
       "      dtype=object)"
      ]
     },
     "execution_count": 63,
     "metadata": {},
     "output_type": "execute_result"
    }
   ],
   "source": [
    "novo_credito"
   ]
  },
  {
   "cell_type": "code",
   "execution_count": 64,
   "metadata": {},
   "outputs": [
    {
     "data": {
      "text/plain": [
       "array(['good'], dtype='<U4')"
      ]
     },
     "execution_count": 64,
     "metadata": {},
     "output_type": "execute_result"
    }
   ],
   "source": [
    "naive_bayes.predict(novo_credito)"
   ]
  },
  {
   "cell_type": "code",
   "execution_count": null,
   "metadata": {},
   "outputs": [],
   "source": []
  }
 ],
 "metadata": {
  "kernelspec": {
   "display_name": "Python 3",
   "language": "python",
   "name": "python3"
  },
  "language_info": {
   "codemirror_mode": {
    "name": "ipython",
    "version": 3
   },
   "file_extension": ".py",
   "mimetype": "text/x-python",
   "name": "python",
   "nbconvert_exporter": "python",
   "pygments_lexer": "ipython3",
   "version": "3.7.3"
  }
 },
 "nbformat": 4,
 "nbformat_minor": 2
}
